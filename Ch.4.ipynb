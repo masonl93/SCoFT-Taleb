{
 "cells": [
  {
   "cell_type": "code",
   "execution_count": 1,
   "metadata": {},
   "outputs": [],
   "source": [
    "import math\n",
    "import numpy as np\n",
    "import pandas as pd\n",
    "import random\n",
    "from scipy.stats import kurtosis, norminvgauss \n",
    "import matplotlib.pyplot as plt"
   ]
  },
  {
   "cell_type": "markdown",
   "metadata": {},
   "source": [
    "# CH 4 - Univariate Fat Tails, Level 1, Finite Moments\n",
    "## 4.1.1 Variance-preserving heuristic"
   ]
  },
  {
   "cell_type": "code",
   "execution_count": 54,
   "metadata": {},
   "outputs": [],
   "source": [
    "# 4.1\n",
    "def rnorma(a, n):\n",
    "    c = np.random.binomial(1, .5, n)\n",
    "    b = np.random.normal(0, math.sqrt(1+a), n)*c + np.random.normal(0, math.sqrt(1-a), n)*(1-c)\n",
    "    return b"
   ]
  },
  {
   "cell_type": "code",
   "execution_count": 83,
   "metadata": {},
   "outputs": [
    {
     "data": {
      "text/plain": [
       "(0.9977046756792217, 2.959486423253096)"
      ]
     },
     "execution_count": 83,
     "metadata": {},
     "output_type": "execute_result"
    }
   ],
   "source": [
    "a = .0001\n",
    "n = 10000\n",
    "out = rnorma(a, n)\n",
    "np.var(out), kurtosis(out, fisher=False)"
   ]
  },
  {
   "cell_type": "code",
   "execution_count": 84,
   "metadata": {},
   "outputs": [
    {
     "data": {
      "text/plain": [
       "(0.9859796451448343, 5.956830213100227)"
      ]
     },
     "execution_count": 84,
     "metadata": {},
     "output_type": "execute_result"
    }
   ],
   "source": [
    "a = .999999\n",
    "n = 10000\n",
    "out = rnorma(a, n)\n",
    "np.var(out), kurtosis(out, fisher=False)"
   ]
  },
  {
   "cell_type": "code",
   "execution_count": 1,
   "metadata": {},
   "outputs": [],
   "source": [
    "# variance remains the same, kurtosis doubles (from 3 i.e. normal distribution)\n",
    "\n",
    "# Side note on moments:\n",
    "# M0 is the total probability which is always equal to 1.\n",
    "# M1 is the mean which describes the location of the distribution.\n",
    "# M2 is the variance which describes the spread of the distribution\n",
    "# M3 is the skewness which describes the lean of the distribution. A positive skew means you have a left lean and a long right tail\n",
    "# M4 is the kurtosis which describes how fat the distribution's tails are"
   ]
  },
  {
   "cell_type": "code",
   "execution_count": 3,
   "metadata": {},
   "outputs": [],
   "source": [
    "# section 4.1.2\n",
    "\n",
    "def rnormaskew(a, p, n):\n",
    "    b = -a*(p/(1-p))\n",
    "    c = np.random.binomial(1, p, n)\n",
    "    z = np.random.normal(0, math.sqrt(1+a), n)*c + np.random.normal(0, math.sqrt(1+b), n)*(1-c)\n",
    "    return z\n"
   ]
  },
  {
   "cell_type": "code",
   "execution_count": 4,
   "metadata": {},
   "outputs": [
    {
     "data": {
      "text/plain": [
       "3402.3111178074405"
      ]
     },
     "execution_count": 4,
     "metadata": {},
     "output_type": "execute_result"
    }
   ],
   "source": [
    "a = 998\n",
    "p = .001\n",
    "n = 100000\n",
    "out = rnormaskew(a, p, n)\n",
    "kurtosis(out, fisher=False)"
   ]
  },
  {
   "cell_type": "code",
   "execution_count": 5,
   "metadata": {},
   "outputs": [
    {
     "data": {
      "text/plain": [
       "2786.936675692489"
      ]
     },
     "execution_count": 5,
     "metadata": {},
     "output_type": "execute_result"
    }
   ],
   "source": [
    "a = 998\n",
    "p = .001\n",
    "n = 100000\n",
    "out = rnormaskew(a, p, n)\n",
    "kurtosis(out, fisher=False)"
   ]
  },
  {
   "cell_type": "code",
   "execution_count": 6,
   "metadata": {},
   "outputs": [],
   "source": [
    "# pg. 66: kurtosis around 3000"
   ]
  },
  {
   "cell_type": "code",
   "execution_count": 5,
   "metadata": {},
   "outputs": [
    {
     "data": {
      "image/png": "[encoded data removed]",
      "text/plain": [
       "<Figure size 432x288 with 1 Axes>"
      ]
     },
     "metadata": {
      "needs_background": "light"
     },
     "output_type": "display_data"
    }
   ],
   "source": [
    "# pg. 68 - Normal Inverse Gaussian Distribution\n",
    "fig, ax = plt.subplots(1, 1)"
   ]
  },
  {
   "cell_type": "code",
   "execution_count": 17,
   "metadata": {},
   "outputs": [],
   "source": [
    "r = norminvgauss.rvs(1, .9, size=1000)"
   ]
  },
  {
   "cell_type": "code",
   "execution_count": 18,
   "metadata": {},
   "outputs": [],
   "source": [
    "ax.hist(r)\n",
    "#ax.legend(loc='best', frameon=False)\n",
    "plt.show()\n",
    "# TODO: get this working https://youtu.be/c_1w2XgsHL0?t=1291\n",
    "# show the same lines as in the vid"
   ]
  },
  {
   "cell_type": "code",
   "execution_count": 26,
   "metadata": {},
   "outputs": [],
   "source": [
    "# 4.4 pg 73\n",
    "# std = sqrt(average(deviations^2))\n",
    "# mad = average(sqrt(deviations^2)) "
   ]
  },
  {
   "cell_type": "code",
   "execution_count": 27,
   "metadata": {},
   "outputs": [],
   "source": [
    "# std >= MAD: sqrt is a concave function, hence sqrt of average >= average of sqrt (jensen's inequality)\n",
    "data = random.choices(list(range(0, 100)), k=100)\n",
    "avg = sum(data)/len(data)\n",
    "std = np.std(data)\n",
    "mad = np.mean(np.absolute(data-np.mean(data)))"
   ]
  },
  {
   "cell_type": "code",
   "execution_count": 28,
   "metadata": {},
   "outputs": [
    {
     "data": {
      "text/plain": [
       "(53.84, 27.396247918282533, 22.946399999999997)"
      ]
     },
     "execution_count": 28,
     "metadata": {},
     "output_type": "execute_result"
    }
   ],
   "source": [
    "avg, std, mad"
   ]
  },
  {
   "cell_type": "code",
   "execution_count": 29,
   "metadata": {},
   "outputs": [],
   "source": [
    "# STD = MAD if and only if all deviations have same magnitude e.g. a dataset where all values are one above mean or one less than mean\n",
    "data = [1]*5 + [3]*5\n",
    "avg = sum(data)/len(data)\n",
    "std = np.std(data)\n",
    "mad = np.mean(np.absolute(data-np.mean(data)))"
   ]
  },
  {
   "cell_type": "code",
   "execution_count": 30,
   "metadata": {},
   "outputs": [
    {
     "data": {
      "text/plain": [
       "(2.0, 1.0, 1.0)"
      ]
     },
     "execution_count": 30,
     "metadata": {},
     "output_type": "execute_result"
    }
   ],
   "source": [
    "avg, std, mad"
   ]
  },
  {
   "cell_type": "code",
   "execution_count": 8,
   "metadata": {},
   "outputs": [],
   "source": [
    "# pg 73 stock retrun example:\n",
    "# std = mad * sqrt(pi/2)  // in gaussian world\n",
    "mad = .01\n",
    "sigma = mad * math.sqrt(math.pi/2)"
   ]
  },
  {
   "cell_type": "code",
   "execution_count": 13,
   "metadata": {},
   "outputs": [
    {
     "name": "stdout",
     "output_type": "stream",
     "text": [
      "0.012533141373155001\n"
     ]
    }
   ],
   "source": [
    "# daily STD (approx 1.25%):\n",
    "print(sigma)"
   ]
  },
  {
   "cell_type": "code",
   "execution_count": 14,
   "metadata": {},
   "outputs": [
    {
     "name": "stdout",
     "output_type": "stream",
     "text": [
      "0.20053026197048002\n"
     ]
    }
   ],
   "source": [
    "# yearly STD (approx 20%):\n",
    "print(sigma * math.sqrt(256))"
   ]
  },
  {
   "cell_type": "code",
   "execution_count": 15,
   "metadata": {},
   "outputs": [],
   "source": [
    "# Ratio of STD/MAD for gaussian is sqrt(pi/2) (approx 1.253)\n",
    "# When the ratio is greater than that, then we can assume data is fat tailed"
   ]
  },
  {
   "cell_type": "code",
   "execution_count": 5,
   "metadata": {},
   "outputs": [
    {
     "data": {
      "text/plain": [
       "(1000.000499999375, 1.999999999997998)"
      ]
     },
     "execution_count": 5,
     "metadata": {},
     "output_type": "execute_result"
    }
   ],
   "source": [
    "# example pg 74\n",
    "data_pts = 10**6\n",
    "x = [-1]*(data_pts-1)\n",
    "x.append(10**6)\n",
    "np.std(x), np.mean(np.absolute(x-np.mean(x)))"
   ]
  },
  {
   "cell_type": "code",
   "execution_count": 6,
   "metadata": {},
   "outputs": [
    {
     "data": {
      "text/plain": [
       "500.00025000018803"
      ]
     },
     "execution_count": 6,
     "metadata": {},
     "output_type": "execute_result"
    }
   ],
   "source": [
    "np.std(x)/np.mean(np.absolute(x-np.mean(x)))"
   ]
  },
  {
   "cell_type": "code",
   "execution_count": 7,
   "metadata": {},
   "outputs": [],
   "source": [
    "# for gaussian, ratio of STD/MAD is ~1.25\n",
    "# but rises with fat tails\n",
    "# Here in the extreme case we see the ratio is 500"
   ]
  },
  {
   "cell_type": "code",
   "execution_count": 8,
   "metadata": {},
   "outputs": [],
   "source": [
    "# Why did science pick STD over MAD?\n",
    "# In a gaussian world, STD is 12% more \"efficient\" than MAD\n",
    "# Efficient here means when taking samples of the data, STD will tend to be more accurate than MAD by 12.5%\n",
    "# but that is only in Gaussian world"
   ]
  },
  {
   "cell_type": "code",
   "execution_count": 19,
   "metadata": {},
   "outputs": [],
   "source": [
    "def mad(data):\n",
    "    return np.mean(np.absolute(data-np.mean(data)))"
   ]
  },
  {
   "cell_type": "code",
   "execution_count": 5,
   "metadata": {},
   "outputs": [],
   "source": [
    "rng = np.random.default_rng()"
   ]
  },
  {
   "cell_type": "code",
   "execution_count": 26,
   "metadata": {},
   "outputs": [],
   "source": [
    "# Stolen code from: https://youtu.be/c_1w2XgsHL0?t=2541\n",
    "# https://github.com/Technical-Incerto-Reading-Club/code-examples/blob/main/Session%202/FM%20-%20NB29%20-%20Std%20vs%20MAD%20Efficiency.ipynb\n",
    "def sample_mixed_norm(jump_sigma, jump_prob, n):\n",
    "    '''\n",
    "    Samples from normal distribution, w/ occasional spikes in standard deviation\n",
    "    STD switches from 1 to jump_sigma w/ probability jump_prob\n",
    "    \n",
    "    jump_sigma: std of high variance distribution\n",
    "    jump_prob: prob of sampling from high variance distrib\n",
    "    n: number of output samples\n",
    "    '''\n",
    "    \n",
    "    normals = rng.standard_normal(n)\n",
    "    jump_flag = rng.binomial(1, jump_prob, n)\n",
    "    jump_flag = jump_flag.astype(bool)\n",
    "    norm_flag = ~jump_flag\n",
    "    \n",
    "    jump_flag_rvs = normals*jump_flag*jump_sigma\n",
    "    norm_flag_rvs = normals*norm_flag\n",
    "    \n",
    "    mixed_rvs = jump_flag_rvs + norm_flag_rvs\n",
    "    return mixed_rvs\n",
    "\n",
    "\n",
    "def get_efficiency(data):\n",
    "    var = np.var(data)\n",
    "    mean = np.mean(data)\n",
    "    \n",
    "    eff = var/mean**2\n",
    "    return eff"
   ]
  },
  {
   "cell_type": "code",
   "execution_count": 32,
   "metadata": {},
   "outputs": [
    {
     "data": {
      "text/plain": [
       "array([-37.11321897, -55.36069275,  -0.5148995 ])"
      ]
     },
     "execution_count": 32,
     "metadata": {},
     "output_type": "execute_result"
    }
   ],
   "source": [
    "sample_mixed_norm(100, .5, 3)"
   ]
  },
  {
   "cell_type": "code",
   "execution_count": 33,
   "metadata": {},
   "outputs": [
    {
     "data": {
      "text/plain": [
       "0.6666666666666667"
      ]
     },
     "execution_count": 33,
     "metadata": {},
     "output_type": "execute_result"
    }
   ],
   "source": [
    "get_efficiency([0, 10, 20])"
   ]
  },
  {
   "cell_type": "code",
   "execution_count": 34,
   "metadata": {},
   "outputs": [],
   "source": [
    "# check Gaussian case\n",
    "n_samples = 100000\n",
    "n_datapoints = 1000\n",
    "jump_sigma = 0\n",
    "jump_prob = 0"
   ]
  },
  {
   "cell_type": "code",
   "execution_count": 35,
   "metadata": {},
   "outputs": [],
   "source": [
    "samples = [sample_mixed_norm(jump_sigma, jump_prob, n_datapoints) for i in range(n_samples)]"
   ]
  },
  {
   "cell_type": "code",
   "execution_count": 36,
   "metadata": {},
   "outputs": [],
   "source": [
    "std_samples = [np.std(sample) for sample in samples]\n",
    "mad_samples = [mad(sample) for sample in samples]"
   ]
  },
  {
   "cell_type": "code",
   "execution_count": 37,
   "metadata": {},
   "outputs": [],
   "source": [
    "std_efficiency = get_efficiency(std_samples)\n",
    "mad_efficiency = get_efficiency(mad_samples)"
   ]
  },
  {
   "cell_type": "code",
   "execution_count": 38,
   "metadata": {},
   "outputs": [
    {
     "data": {
      "text/plain": [
       "0.0004991823494424019"
      ]
     },
     "execution_count": 38,
     "metadata": {},
     "output_type": "execute_result"
    }
   ],
   "source": [
    "std_efficiency"
   ]
  },
  {
   "cell_type": "code",
   "execution_count": 39,
   "metadata": {},
   "outputs": [
    {
     "data": {
      "text/plain": [
       "0.0005702447322861765"
      ]
     },
     "execution_count": 39,
     "metadata": {},
     "output_type": "execute_result"
    }
   ],
   "source": [
    "mad_efficiency"
   ]
  },
  {
   "cell_type": "code",
   "execution_count": 44,
   "metadata": {},
   "outputs": [
    {
     "data": {
      "text/plain": [
       "0.8753826579705921"
      ]
     },
     "execution_count": 44,
     "metadata": {},
     "output_type": "execute_result"
    }
   ],
   "source": [
    "# efficiency ratio\n",
    "std_efficiency/mad_efficiency"
   ]
  },
  {
   "cell_type": "code",
   "execution_count": 41,
   "metadata": {},
   "outputs": [
    {
     "data": {
      "text/plain": [
       "0.8759691969420544"
      ]
     },
     "execution_count": 41,
     "metadata": {},
     "output_type": "execute_result"
    }
   ],
   "source": [
    "# pg 76\n",
    "# here we see that STD is ~12.5% more efficient than MAD (1 - .875)\n",
    "1/(math.pi-2)"
   ]
  },
  {
   "cell_type": "code",
   "execution_count": 42,
   "metadata": {},
   "outputs": [
    {
     "data": {
      "text/plain": [
       "<AxesSubplot:title={'center':'Distribution of sample estimates'}, ylabel='Frequency'>"
      ]
     },
     "execution_count": 42,
     "metadata": {},
     "output_type": "execute_result"
    },
    {
     "data": {
      "image/png": "[encoded data removed]",
      "text/plain": [
       "<Figure size 432x288 with 1 Axes>"
      ]
     },
     "metadata": {
      "needs_background": "light"
     },
     "output_type": "display_data"
    }
   ],
   "source": [
    "# visualize STD vs MAD, similar to pg 78\n",
    "d = {'std': std_samples, 'mad': mad_samples}\n",
    "df = pd.DataFrame(d)\n",
    "\n",
    "df.plot(kind='hist', bins=100, title='Distribution of sample estimates')"
   ]
  },
  {
   "cell_type": "code",
   "execution_count": 47,
   "metadata": {},
   "outputs": [
    {
     "data": {
      "text/plain": [
       "2.19830856215039"
      ]
     },
     "execution_count": 47,
     "metadata": {},
     "output_type": "execute_result"
    }
   ],
   "source": [
    "# check fat tailed example\n",
    "n_samples = 100000\n",
    "n_datapoints = 1000\n",
    "jump_sigma = 4\n",
    "jump_prob = .1\n",
    "samples = [sample_mixed_norm(jump_sigma, jump_prob, n_datapoints) for i in range(n_samples)]\n",
    "std_samples = [np.std(sample) for sample in samples]\n",
    "mad_samples = [mad(sample) for sample in samples]\n",
    "std_efficiency = get_efficiency(std_samples)\n",
    "mad_efficiency = get_efficiency(mad_samples)\n",
    "std_efficiency/mad_efficiency"
   ]
  },
  {
   "cell_type": "code",
   "execution_count": 48,
   "metadata": {},
   "outputs": [],
   "source": [
    "# now ratio is greater than 2"
   ]
  },
  {
   "cell_type": "code",
   "execution_count": 49,
   "metadata": {},
   "outputs": [
    {
     "data": {
      "image/png": "[encoded data removed]",
      "text/plain": [
       "<Figure size 432x288 with 1 Axes>"
      ]
     },
     "metadata": {
      "needs_background": "light"
     },
     "output_type": "display_data"
    }
   ],
   "source": [
    "d = {'std': std_samples, 'mad': mad_samples}\n",
    "df = pd.DataFrame(d)\n",
    "\n",
    "df.plot(kind='hist', bins=100, title='Distribution of sample estimates')"
   ]
  },
  {
   "cell_type": "code",
   "execution_count": 50,
   "metadata": {},
   "outputs": [],
   "source": [
    "# normalize to overlay\n",
    "std_mean = np.mean(std_samples)\n",
    "mad_mean = np.mean(mad_samples)\n",
    "\n",
    "# Practical Method (Think error magnitude)\n",
    "std_normalised_samples = std_samples - std_mean\n",
    "mad_normalised_samples = mad_samples - mad_mean"
   ]
  },
  {
   "cell_type": "code",
   "execution_count": 51,
   "metadata": {},
   "outputs": [
    {
     "data": {
      "image/png": "[encoded data removed]",
      "text/plain": [
       "<Figure size 432x288 with 1 Axes>"
      ]
     },
     "metadata": {
      "needs_background": "light"
     },
     "output_type": "display_data"
    }
   ],
   "source": [
    "d = {'std': std_normalised_samples, 'mad': mad_normalised_samples}\n",
    "df = pd.DataFrame(d)\n",
    "\n",
    "df.plot(kind='hist', bins=100, title='Distribution of sample estimates', alpha=0.6);"
   ]
  },
  {
   "cell_type": "code",
   "execution_count": 15,
   "metadata": {},
   "outputs": [
    {
     "data": {
      "text/plain": [
       "(1.2543410422224264, 1.2533141373155001)"
      ]
     },
     "execution_count": 15,
     "metadata": {},
     "output_type": "execute_result"
    }
   ],
   "source": [
    "# pg 79\n",
    "# Gaussian world\n",
    "# STD/MAD = sqrt(pi/2)\n",
    "data = np.random.normal(0, 1, 100000)\n",
    "std = np.std(data)\n",
    "mad = np.mean(np.absolute(data-np.mean(data)))\n",
    "std/mad, math.sqrt(math.pi/2)"
   ]
  },
  {
   "cell_type": "code",
   "execution_count": 16,
   "metadata": {},
   "outputs": [
    {
     "data": {
      "text/plain": [
       "(1.5511078268756548, 1.5707963267948966)"
      ]
     },
     "execution_count": 16,
     "metadata": {},
     "output_type": "execute_result"
    }
   ],
   "source": [
    "# pg 80\n",
    "# Power law e.g. Student T w/ tail exponent alpha=3\n",
    "# STD/MAD = pi/2\n",
    "data = np.random.standard_t(3, size=1000000)\n",
    "std = np.std(data)\n",
    "mad = np.mean(np.absolute(data-np.mean(data)))\n",
    "std/mad, math.pi/2"
   ]
  },
  {
   "cell_type": "code",
   "execution_count": null,
   "metadata": {},
   "outputs": [],
   "source": []
  }
 ],
 "metadata": {
  "kernelspec": {
   "display_name": "Python 3 (ipykernel)",
   "language": "python",
   "name": "python3"
  },
  "language_info": {
   "codemirror_mode": {
    "name": "ipython",
    "version": 3
   },
   "file_extension": ".py",
   "mimetype": "text/x-python",
   "name": "python",
   "nbconvert_exporter": "python",
   "pygments_lexer": "ipython3",
   "version": "3.8.13"
  }
 },
 "nbformat": 4,
 "nbformat_minor": 4
}
