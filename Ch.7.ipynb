{
 "cells": [
  {
   "cell_type": "code",
   "execution_count": 37,
   "metadata": {},
   "outputs": [],
   "source": [
    "import matplotlib.pyplot as plt\n",
    "import numpy as np\n",
    "import pandas as pd\n",
    "from scipy.stats import kurtosis, skew"
   ]
  },
  {
   "cell_type": "markdown",
   "metadata": {},
   "source": [
    "# Appendix A: Special Cases of Thick Tails"
   ]
  },
  {
   "cell_type": "code",
   "execution_count": 6,
   "metadata": {},
   "outputs": [
    {
     "data": {
      "text/plain": [
       "3.006378780810663"
      ]
     },
     "execution_count": 6,
     "metadata": {},
     "output_type": "execute_result"
    }
   ],
   "source": [
    "g1 = np.random.normal(-10, 1, 10000)\n",
    "kurtosis(g1, fisher=False)"
   ]
  },
  {
   "cell_type": "code",
   "execution_count": 7,
   "metadata": {},
   "outputs": [
    {
     "data": {
      "text/plain": [
       "3.006378780810663"
      ]
     },
     "execution_count": 7,
     "metadata": {},
     "output_type": "execute_result"
    }
   ],
   "source": [
    "g2 = np.random.normal(10, 2, 10000)\n",
    "kurtosis(g1, fisher=False)"
   ]
  },
  {
   "cell_type": "code",
   "execution_count": 8,
   "metadata": {},
   "outputs": [],
   "source": [
    "# TODO: show stochastic variance example"
   ]
  },
  {
   "cell_type": "markdown",
   "metadata": {},
   "source": [
    "# Ch 7 - Limit Distributions, A Consideration\n",
    "## Law of Large Numbers"
   ]
  },
  {
   "cell_type": "code",
   "execution_count": 12,
   "metadata": {},
   "outputs": [
    {
     "data": {
      "text/plain": [
       "(array([ 1.,  1.,  1.,  0.,  1.,  2.,  3.,  2.,  5.,  5.,  9.,  7., 13.,\n",
       "         8., 17., 20., 31., 35., 35., 43., 40., 47., 46., 46., 42., 58.,\n",
       "        44., 47., 37., 44., 40., 36., 41., 29., 38., 16., 19., 22., 14.,\n",
       "        10.,  9.,  9.,  7.,  9.,  6.,  2.,  2.,  0.,  0.,  1.]),\n",
       " array([-0.01017705, -0.00978069, -0.00938432, -0.00898795, -0.00859159,\n",
       "        -0.00819522, -0.00779885, -0.00740249, -0.00700612, -0.00660975,\n",
       "        -0.00621339, -0.00581702, -0.00542065, -0.00502429, -0.00462792,\n",
       "        -0.00423155, -0.00383519, -0.00343882, -0.00304245, -0.00264608,\n",
       "        -0.00224972, -0.00185335, -0.00145698, -0.00106062, -0.00066425,\n",
       "        -0.00026788,  0.00012848,  0.00052485,  0.00092122,  0.00131758,\n",
       "         0.00171395,  0.00211032,  0.00250668,  0.00290305,  0.00329942,\n",
       "         0.00369578,  0.00409215,  0.00448852,  0.00488488,  0.00528125,\n",
       "         0.00567762,  0.00607398,  0.00647035,  0.00686672,  0.00726308,\n",
       "         0.00765945,  0.00805582,  0.00845218,  0.00884855,  0.00924492,\n",
       "         0.00964128]),\n",
       " <BarContainer object of 50 artists>)"
      ]
     },
     "execution_count": 12,
     "metadata": {},
     "output_type": "execute_result"
    },
    {
     "data": {
      "image/png": "[encoded data removed]",
      "text/plain": [
       "<Figure size 432x288 with 1 Axes>"
      ]
     },
     "metadata": {
      "needs_background": "light"
     },
     "output_type": "display_data"
    }
   ],
   "source": [
    "# Mean of 1000 random draws from gaussian\n",
    "means = []\n",
    "mu, sigma = 0, 0.1\n",
    "for i in range(0, 1000):\n",
    "    s = np.random.normal(mu, sigma, 1000)\n",
    "    means.append(np.mean(s))\n",
    "plt.hist(means, bins=50, edgecolor=\"black\")"
   ]
  },
  {
   "cell_type": "code",
   "execution_count": 13,
   "metadata": {},
   "outputs": [
    {
     "data": {
      "text/plain": [
       "(array([  2.,   1.,   0.,   0.,   5.,   8.,  10.,  15.,  25.,  45.,  54.,\n",
       "         62., 110., 151., 191., 265., 299., 379., 418., 459., 529., 576.,\n",
       "        580., 632., 609., 644., 612., 554., 508., 450., 411., 333., 277.,\n",
       "        218., 160., 125.,  88.,  58.,  42.,  31.,  28.,  10.,  12.,   5.,\n",
       "          2.,   3.,   2.,   1.,   0.,   1.]),\n",
       " array([-3.91351958e-03, -3.75209255e-03, -3.59066551e-03, -3.42923848e-03,\n",
       "        -3.26781145e-03, -3.10638441e-03, -2.94495738e-03, -2.78353034e-03,\n",
       "        -2.62210331e-03, -2.46067627e-03, -2.29924924e-03, -2.13782220e-03,\n",
       "        -1.97639517e-03, -1.81496813e-03, -1.65354110e-03, -1.49211407e-03,\n",
       "        -1.33068703e-03, -1.16926000e-03, -1.00783296e-03, -8.46405927e-04,\n",
       "        -6.84978893e-04, -5.23551858e-04, -3.62124824e-04, -2.00697789e-04,\n",
       "        -3.92707547e-05,  1.22156280e-04,  2.83583314e-04,  4.45010349e-04,\n",
       "         6.06437383e-04,  7.67864418e-04,  9.29291452e-04,  1.09071849e-03,\n",
       "         1.25214552e-03,  1.41357256e-03,  1.57499959e-03,  1.73642663e-03,\n",
       "         1.89785366e-03,  2.05928069e-03,  2.22070773e-03,  2.38213476e-03,\n",
       "         2.54356180e-03,  2.70498883e-03,  2.86641587e-03,  3.02784290e-03,\n",
       "         3.18926994e-03,  3.35069697e-03,  3.51212400e-03,  3.67355104e-03,\n",
       "         3.83497807e-03,  3.99640511e-03,  4.15783214e-03]),\n",
       " <BarContainer object of 50 artists>)"
      ]
     },
     "execution_count": 13,
     "metadata": {},
     "output_type": "execute_result"
    },
    {
     "data": {
      "image/png": "[encoded data removed]",
      "text/plain": [
       "<Figure size 432x288 with 1 Axes>"
      ]
     },
     "metadata": {
      "needs_background": "light"
     },
     "output_type": "display_data"
    }
   ],
   "source": [
    "# Mean of 10,000 random draws from gaussian\n",
    "means = []\n",
    "mu, sigma = 0, 0.1\n",
    "for i in range(0, 10000):\n",
    "    s = np.random.normal(mu, sigma, 10000)\n",
    "    means.append(np.mean(s))\n",
    "plt.hist(means, bins=50, edgecolor=\"black\")"
   ]
  },
  {
   "cell_type": "markdown",
   "metadata": {},
   "source": [
    "Notice the x-axis: variance is values have compressed. LLN is working here"
   ]
  },
  {
   "cell_type": "code",
   "execution_count": 15,
   "metadata": {},
   "outputs": [
    {
     "data": {
      "text/plain": [
       "(array([ 1.,  0.,  0.,  0.,  0.,  0.,  3.,  0.,  1.,  4.,  4.,  6.,  5.,\n",
       "        13., 11., 21., 23., 31., 30., 41., 40., 46., 53., 51., 49., 66.,\n",
       "        68., 60., 62., 54., 52., 54., 35., 20., 22., 26., 14.,  8., 12.,\n",
       "         7.,  2.,  0.,  1.,  1.,  1.,  1.,  0.,  0.,  0.,  1.]),\n",
       " array([-12.65940674, -12.16901581, -11.67862488, -11.18823395,\n",
       "        -10.69784302, -10.2074521 ,  -9.71706117,  -9.22667024,\n",
       "         -8.73627931,  -8.24588838,  -7.75549745,  -7.26510652,\n",
       "         -6.77471559,  -6.28432466,  -5.79393373,  -5.30354281,\n",
       "         -4.81315188,  -4.32276095,  -3.83237002,  -3.34197909,\n",
       "         -2.85158816,  -2.36119723,  -1.8708063 ,  -1.38041537,\n",
       "         -0.89002444,  -0.39963351,   0.09075741,   0.58114834,\n",
       "          1.07153927,   1.5619302 ,   2.05232113,   2.54271206,\n",
       "          3.03310299,   3.52349392,   4.01388485,   4.50427578,\n",
       "          4.9946667 ,   5.48505763,   5.97544856,   6.46583949,\n",
       "          6.95623042,   7.44662135,   7.93701228,   8.42740321,\n",
       "          8.91779414,   9.40818507,   9.89857599,  10.38896692,\n",
       "         10.87935785,  11.36974878,  11.86013971]),\n",
       " <BarContainer object of 50 artists>)"
      ]
     },
     "execution_count": 15,
     "metadata": {},
     "output_type": "execute_result"
    },
    {
     "data": {
      "image/png": "[encoded data removed]",
      "text/plain": [
       "<Figure size 432x288 with 1 Axes>"
      ]
     },
     "metadata": {
      "needs_background": "light"
     },
     "output_type": "display_data"
    }
   ],
   "source": [
    "# 1000 sums of 1000 draws from gaussian\n",
    "sums = []\n",
    "mu, sigma = 0, 0.1\n",
    "for i in range(0, 1000):\n",
    "    s = np.random.normal(mu, sigma, 1000)\n",
    "    sums.append(np.sum(s))\n",
    "plt.hist(sums, bins=50, edgecolor=\"black\")"
   ]
  },
  {
   "cell_type": "code",
   "execution_count": 16,
   "metadata": {},
   "outputs": [
    {
     "data": {
      "text/plain": [
       "(array([  1.,   1.,   3.,   7.,   6.,  10.,  12.,  21.,  38.,  52.,  52.,\n",
       "         75., 133., 131., 230., 234., 303., 364., 359., 427., 490., 533.,\n",
       "        579., 582., 603., 604., 591., 536., 484., 466., 409., 350., 304.,\n",
       "        232., 208., 156., 127.,  91.,  59.,  42.,  34.,  25.,  11.,   8.,\n",
       "          8.,   6.,   2.,   0.,   0.,   1.]),\n",
       " array([-36.87962547, -35.37115906, -33.86269265, -32.35422625,\n",
       "        -30.84575984, -29.33729343, -27.82882702, -26.32036061,\n",
       "        -24.8118942 , -23.30342779, -21.79496138, -20.28649497,\n",
       "        -18.77802856, -17.26956215, -15.76109574, -14.25262933,\n",
       "        -12.74416292, -11.23569652,  -9.72723011,  -8.2187637 ,\n",
       "         -6.71029729,  -5.20183088,  -3.69336447,  -2.18489806,\n",
       "         -0.67643165,   0.83203476,   2.34050117,   3.84896758,\n",
       "          5.35743399,   6.8659004 ,   8.37436681,   9.88283321,\n",
       "         11.39129962,  12.89976603,  14.40823244,  15.91669885,\n",
       "         17.42516526,  18.93363167,  20.44209808,  21.95056449,\n",
       "         23.4590309 ,  24.96749731,  26.47596372,  27.98443013,\n",
       "         29.49289653,  31.00136294,  32.50982935,  34.01829576,\n",
       "         35.52676217,  37.03522858,  38.54369499]),\n",
       " <BarContainer object of 50 artists>)"
      ]
     },
     "execution_count": 16,
     "metadata": {},
     "output_type": "execute_result"
    },
    {
     "data": {
      "image/png": "[encoded data removed]",
      "text/plain": [
       "<Figure size 432x288 with 1 Axes>"
      ]
     },
     "metadata": {
      "needs_background": "light"
     },
     "output_type": "display_data"
    }
   ],
   "source": [
    "# 10000 sums of 10000 draws from gaussian\n",
    "sums = []\n",
    "mu, sigma = 0, 0.1\n",
    "for i in range(0, 10000):\n",
    "    s = np.random.normal(mu, sigma, 10000)\n",
    "    sums.append(np.sum(s))\n",
    "plt.hist(sums, bins=50, edgecolor=\"black\")"
   ]
  },
  {
   "cell_type": "markdown",
   "metadata": {},
   "source": [
    "## Uniform Distrib."
   ]
  },
  {
   "cell_type": "code",
   "execution_count": 7,
   "metadata": {},
   "outputs": [],
   "source": [
    "def summed_uniform_sample(cnt):\n",
    "    s = np.random.uniform(0, 1, cnt)\n",
    "    return s.sum()\n",
    "\n",
    "\n",
    "def plot_summed_uniform_sample(cnt, sample_size, bins=50):\n",
    "    samples = [summed_uniform_sample(cnt) for i in range(sample_size)]\n",
    "    samples = pd.Series(samples)\n",
    "    return samples.hist(bins=bins)"
   ]
  },
  {
   "cell_type": "code",
   "execution_count": 8,
   "metadata": {},
   "outputs": [],
   "source": [
    "sample_size = 10**5"
   ]
  },
  {
   "cell_type": "markdown",
   "metadata": {},
   "source": [
    "### uniform to bell shape"
   ]
  },
  {
   "cell_type": "code",
   "execution_count": 12,
   "metadata": {},
   "outputs": [
    {
     "data": {
      "text/plain": [
       "<AxesSubplot:>"
      ]
     },
     "execution_count": 12,
     "metadata": {},
     "output_type": "execute_result"
    },
    {
     "data": {
      "image/png": "[encoded data removed]",
      "text/plain": [
       "<Figure size 432x288 with 1 Axes>"
      ]
     },
     "metadata": {
      "needs_background": "light"
     },
     "output_type": "display_data"
    }
   ],
   "source": [
    "plot_summed_uniform_sample(1, sample_size)"
   ]
  },
  {
   "cell_type": "code",
   "execution_count": 13,
   "metadata": {},
   "outputs": [
    {
     "data": {
      "text/plain": [
       "<AxesSubplot:>"
      ]
     },
     "execution_count": 13,
     "metadata": {},
     "output_type": "execute_result"
    },
    {
     "data": {
      "image/png": "[encoded data removed]",
      "text/plain": [
       "<Figure size 432x288 with 1 Axes>"
      ]
     },
     "metadata": {
      "needs_background": "light"
     },
     "output_type": "display_data"
    }
   ],
   "source": [
    "plot_summed_uniform_sample(2, sample_size)"
   ]
  },
  {
   "cell_type": "code",
   "execution_count": 14,
   "metadata": {},
   "outputs": [
    {
     "data": {
      "text/plain": [
       "<AxesSubplot:>"
      ]
     },
     "execution_count": 14,
     "metadata": {},
     "output_type": "execute_result"
    },
    {
     "data": {
      "image/png": "[encoded data removed]",
      "text/plain": [
       "<Figure size 432x288 with 1 Axes>"
      ]
     },
     "metadata": {
      "needs_background": "light"
     },
     "output_type": "display_data"
    }
   ],
   "source": [
    "plot_summed_uniform_sample(3, sample_size)"
   ]
  },
  {
   "cell_type": "code",
   "execution_count": 15,
   "metadata": {},
   "outputs": [
    {
     "data": {
      "text/plain": [
       "<AxesSubplot:>"
      ]
     },
     "execution_count": 15,
     "metadata": {},
     "output_type": "execute_result"
    },
    {
     "data": {
      "image/png": "[encoded data removed]",
      "text/plain": [
       "<Figure size 432x288 with 1 Axes>"
      ]
     },
     "metadata": {
      "needs_background": "light"
     },
     "output_type": "display_data"
    }
   ],
   "source": [
    "plot_summed_uniform_sample(10, sample_size)"
   ]
  },
  {
   "cell_type": "code",
   "execution_count": 16,
   "metadata": {},
   "outputs": [
    {
     "data": {
      "text/plain": [
       "<AxesSubplot:>"
      ]
     },
     "execution_count": 16,
     "metadata": {},
     "output_type": "execute_result"
    },
    {
     "data": {
      "image/png": "[encoded data removed]",
      "text/plain": [
       "<Figure size 432x288 with 1 Axes>"
      ]
     },
     "metadata": {
      "needs_background": "light"
     },
     "output_type": "display_data"
    }
   ],
   "source": [
    "plot_summed_uniform_sample(50, sample_size)"
   ]
  },
  {
   "cell_type": "markdown",
   "metadata": {},
   "source": [
    "### exponential to bell shape"
   ]
  },
  {
   "cell_type": "code",
   "execution_count": 17,
   "metadata": {},
   "outputs": [],
   "source": [
    "def summed_exp_sample(cnt):\n",
    "    s = np.random.exponential(size=cnt)\n",
    "    return s.sum()\n",
    "\n",
    "\n",
    "def plot_summed_exp_sample(cnt, sample_size, bins=50):\n",
    "    samples = [summed_exp_sample(cnt) for i in range(sample_size)]\n",
    "    samples = pd.Series(samples)\n",
    "    return samples.hist(bins=bins)"
   ]
  },
  {
   "cell_type": "code",
   "execution_count": 18,
   "metadata": {},
   "outputs": [
    {
     "data": {
      "text/plain": [
       "<AxesSubplot:>"
      ]
     },
     "execution_count": 18,
     "metadata": {},
     "output_type": "execute_result"
    },
    {
     "data": {
      "image/png": "[encoded data removed]",
      "text/plain": [
       "<Figure size 432x288 with 1 Axes>"
      ]
     },
     "metadata": {
      "needs_background": "light"
     },
     "output_type": "display_data"
    }
   ],
   "source": [
    "plot_summed_exp_sample(1, sample_size)"
   ]
  },
  {
   "cell_type": "code",
   "execution_count": 19,
   "metadata": {},
   "outputs": [
    {
     "data": {
      "text/plain": [
       "<AxesSubplot:>"
      ]
     },
     "execution_count": 19,
     "metadata": {},
     "output_type": "execute_result"
    },
    {
     "data": {
      "image/png": "[encoded data removed]",
      "text/plain": [
       "<Figure size 432x288 with 1 Axes>"
      ]
     },
     "metadata": {
      "needs_background": "light"
     },
     "output_type": "display_data"
    }
   ],
   "source": [
    "plot_summed_exp_sample(2, sample_size)"
   ]
  },
  {
   "cell_type": "code",
   "execution_count": 20,
   "metadata": {},
   "outputs": [
    {
     "data": {
      "text/plain": [
       "<AxesSubplot:>"
      ]
     },
     "execution_count": 20,
     "metadata": {},
     "output_type": "execute_result"
    },
    {
     "data": {
      "image/png": "[encoded data removed]",
      "text/plain": [
       "<Figure size 432x288 with 1 Axes>"
      ]
     },
     "metadata": {
      "needs_background": "light"
     },
     "output_type": "display_data"
    }
   ],
   "source": [
    "plot_summed_exp_sample(3, sample_size)"
   ]
  },
  {
   "cell_type": "code",
   "execution_count": 21,
   "metadata": {},
   "outputs": [
    {
     "data": {
      "text/plain": [
       "<AxesSubplot:>"
      ]
     },
     "execution_count": 21,
     "metadata": {},
     "output_type": "execute_result"
    },
    {
     "data": {
      "image/png": "[encoded data removed]",
      "text/plain": [
       "<Figure size 432x288 with 1 Axes>"
      ]
     },
     "metadata": {
      "needs_background": "light"
     },
     "output_type": "display_data"
    }
   ],
   "source": [
    "plot_summed_exp_sample(4, sample_size)"
   ]
  },
  {
   "cell_type": "code",
   "execution_count": 22,
   "metadata": {},
   "outputs": [
    {
     "data": {
      "text/plain": [
       "<AxesSubplot:>"
      ]
     },
     "execution_count": 22,
     "metadata": {},
     "output_type": "execute_result"
    },
    {
     "data": {
      "image/png": "[encoded data removed]",
      "text/plain": [
       "<Figure size 432x288 with 1 Axes>"
      ]
     },
     "metadata": {
      "needs_background": "light"
     },
     "output_type": "display_data"
    }
   ],
   "source": [
    "plot_summed_exp_sample(5, sample_size)"
   ]
  },
  {
   "cell_type": "code",
   "execution_count": 23,
   "metadata": {},
   "outputs": [
    {
     "data": {
      "text/plain": [
       "<AxesSubplot:>"
      ]
     },
     "execution_count": 23,
     "metadata": {},
     "output_type": "execute_result"
    },
    {
     "data": {
      "image/png": "[encoded data removed]",
      "text/plain": [
       "<Figure size 432x288 with 1 Axes>"
      ]
     },
     "metadata": {
      "needs_background": "light"
     },
     "output_type": "display_data"
    }
   ],
   "source": [
    "plot_summed_exp_sample(6, sample_size)"
   ]
  },
  {
   "cell_type": "code",
   "execution_count": 24,
   "metadata": {},
   "outputs": [
    {
     "data": {
      "text/plain": [
       "<AxesSubplot:>"
      ]
     },
     "execution_count": 24,
     "metadata": {},
     "output_type": "execute_result"
    },
    {
     "data": {
      "image/png": "[encoded data removed]",
      "text/plain": [
       "<Figure size 432x288 with 1 Axes>"
      ]
     },
     "metadata": {
      "needs_background": "light"
     },
     "output_type": "display_data"
    }
   ],
   "source": [
    "plot_summed_exp_sample(10, sample_size)"
   ]
  },
  {
   "cell_type": "code",
   "execution_count": 25,
   "metadata": {},
   "outputs": [
    {
     "data": {
      "text/plain": [
       "<AxesSubplot:>"
      ]
     },
     "execution_count": 25,
     "metadata": {},
     "output_type": "execute_result"
    },
    {
     "data": {
      "image/png": "[encoded data removed]",
      "text/plain": [
       "<Figure size 432x288 with 1 Axes>"
      ]
     },
     "metadata": {
      "needs_background": "light"
     },
     "output_type": "display_data"
    }
   ],
   "source": [
    "plot_summed_exp_sample(100, sample_size)"
   ]
  },
  {
   "cell_type": "markdown",
   "metadata": {},
   "source": [
    "Eventually converges, just takes longer than uniform"
   ]
  },
  {
   "cell_type": "code",
   "execution_count": 18,
   "metadata": {},
   "outputs": [],
   "source": [
    "mu, sigma = 0, 0.1\n",
    "sum_4 = 0\n",
    "max_4 = None\n",
    "max_sum = []\n",
    "\n",
    "for i in range(0, 10_000):\n",
    "    s = np.random.normal(mu, sigma, 1000)\n",
    "    k = kurtosis(s, fisher=False)\n",
    "    if max_4 is None:\n",
    "        max_4 = k\n",
    "    elif k > max_4:\n",
    "        max_4 = k\n",
    "    sum_4 += k\n",
    "    max_sum.append(max_4 / sum_4)"
   ]
  },
  {
   "cell_type": "code",
   "execution_count": 19,
   "metadata": {},
   "outputs": [
    {
     "data": {
      "text/plain": [
       "[<matplotlib.lines.Line2D at 0x2355bf701c0>]"
      ]
     },
     "execution_count": 19,
     "metadata": {},
     "output_type": "execute_result"
    },
    {
     "data": {
      "image/png": "[encoded data removed]",
      "text/plain": [
       "<Figure size 640x480 with 1 Axes>"
      ]
     },
     "metadata": {},
     "output_type": "display_data"
    }
   ],
   "source": [
    "plt.plot(max_sum)"
   ]
  },
  {
   "cell_type": "code",
   "execution_count": 33,
   "metadata": {},
   "outputs": [],
   "source": [
    "a, m = 3.0, 2.0  # shape and mode\n",
    "sum_4 = 0\n",
    "max_4 = None\n",
    "max_sum = []\n",
    "\n",
    "for i in range(0, 10_000):\n",
    "    s = (np.random.pareto(a, 100000) + 1) * m\n",
    "    k = kurtosis(s, fisher=False)\n",
    "    if max_4 is None:\n",
    "        max_4 = k\n",
    "    elif k > max_4:\n",
    "        max_4 = k\n",
    "    sum_4 += k\n",
    "    max_sum.append(max_4 / sum_4)"
   ]
  },
  {
   "cell_type": "code",
   "execution_count": 34,
   "metadata": {},
   "outputs": [
    {
     "data": {
      "text/plain": [
       "[<matplotlib.lines.Line2D at 0x2355d0cb340>]"
      ]
     },
     "execution_count": 34,
     "metadata": {},
     "output_type": "execute_result"
    },
    {
     "data": {
      "image/png": "[encoded data removed]",
      "text/plain": [
       "<Figure size 640x480 with 1 Axes>"
      ]
     },
     "metadata": {},
     "output_type": "display_data"
    }
   ],
   "source": [
    "plt.plot(max_sum)"
   ]
  },
  {
   "cell_type": "code",
   "execution_count": 51,
   "metadata": {},
   "outputs": [
    {
     "data": {
      "text/plain": [
       "[<matplotlib.lines.Line2D at 0x2355df589d0>]"
      ]
     },
     "execution_count": 51,
     "metadata": {},
     "output_type": "execute_result"
    },
    {
     "data": {
      "image/png": "[encoded data removed]",
      "text/plain": [
       "<Figure size 640x480 with 1 Axes>"
      ]
     },
     "metadata": {},
     "output_type": "display_data"
    }
   ],
   "source": [
    "sum_1 = 0\n",
    "max_1 = None\n",
    "max_sum1 = []\n",
    "sum_2 = 0\n",
    "max_2 = None\n",
    "max_sum2 = []\n",
    "sum_3 = 0\n",
    "max_3 = None\n",
    "max_sum3 = []\n",
    "sum_4 = 0\n",
    "max_4 = None\n",
    "max_sum4 = []\n",
    "\n",
    "for i in range(0, 10_000):\n",
    "    s = np.random.standard_t(3, size=1000)\n",
    "\n",
    "    m = abs(np.mean(s))\n",
    "    if max_1 is None:\n",
    "        max_1 = m\n",
    "    elif m > max_1:\n",
    "        max_1 = m\n",
    "    sum_1 += m\n",
    "    max_sum1.append(max_1 / sum_1)\n",
    "\n",
    "    v = np.var(s)\n",
    "    if max_2 is None:\n",
    "        max_2 = v\n",
    "    elif v > max_2:\n",
    "        max_2 = v\n",
    "    sum_2 += v\n",
    "    max_sum2.append(max_2 / sum_2)\n",
    "\n",
    "    sk = abs(skew(s))\n",
    "    if max_3 is None:\n",
    "        max_3 = sk\n",
    "    elif sk > max_3:\n",
    "        max_3 = sk\n",
    "    sum_3 += sk\n",
    "    max_sum3.append(max_3 / sum_3)\n",
    "\n",
    "    k = kurtosis(s, fisher=False)\n",
    "    if max_4 is None:\n",
    "        max_4 = k\n",
    "    elif k > max_4:\n",
    "        max_4 = k\n",
    "    sum_4 += k\n",
    "    max_sum4.append(max_4 / sum_4)\n",
    "\n",
    "plt.plot(max_sum1)\n",
    "plt.plot(max_sum2)\n",
    "plt.plot(max_sum3)\n",
    "plt.plot(max_sum4)"
   ]
  },
  {
   "cell_type": "code",
   "execution_count": null,
   "metadata": {},
   "outputs": [],
   "source": []
  }
 ],
 "metadata": {
  "kernelspec": {
   "display_name": "Python 3",
   "language": "python",
   "name": "python3"
  },
  "language_info": {
   "codemirror_mode": {
    "name": "ipython",
    "version": 3
   },
   "file_extension": ".py",
   "mimetype": "text/x-python",
   "name": "python",
   "nbconvert_exporter": "python",
   "pygments_lexer": "ipython3",
   "version": "3.8.17"
  }
 },
 "nbformat": 4,
 "nbformat_minor": 4
}
