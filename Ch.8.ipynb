{
 "cells": [
  {
   "cell_type": "code",
   "execution_count": 3,
   "id": "592f981d-2148-4682-bde6-581a256a3a92",
   "metadata": {},
   "outputs": [],
   "source": [
    "import random\n",
    "import numpy as np"
   ]
  },
  {
   "cell_type": "code",
   "execution_count": 4,
   "id": "1647f020-d66b-4e4f-b9d6-f7e05e96e1c6",
   "metadata": {},
   "outputs": [],
   "source": [
    "# TODOs:\n",
    "# replicate graph on pg 140\n",
    "# calculate kappa?"
   ]
  },
  {
   "cell_type": "code",
   "execution_count": null,
   "id": "777cd444-03e7-4295-af1d-62e0dec9a772",
   "metadata": {},
   "outputs": [],
   "source": []
  }
 ],
 "metadata": {
  "kernelspec": {
   "display_name": "Python 3",
   "language": "python",
   "name": "python3"
  },
  "language_info": {
   "codemirror_mode": {
    "name": "ipython",
    "version": 3
   },
   "file_extension": ".py",
   "mimetype": "text/x-python",
   "name": "python",
   "nbconvert_exporter": "python",
   "pygments_lexer": "ipython3",
   "version": "3.8.17"
  }
 },
 "nbformat": 4,
 "nbformat_minor": 5
}
